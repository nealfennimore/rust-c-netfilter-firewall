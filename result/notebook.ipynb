{
 "cells": [
  {
   "cell_type": "markdown",
   "metadata": {},
   "source": [
    "# Ethr\n",
    "\n",
    "Load in server log files from ethr tests"
   ]
  },
  {
   "cell_type": "code",
   "execution_count": 11,
   "metadata": {},
   "outputs": [],
   "source": [
    "import pandas as pd\n",
    "\n",
    "c_server = pd.read_json(\"c-server.log\")\n",
    "rust_server = pd.read_json(\"rust-server.log\")"
   ]
  },
  {
   "cell_type": "markdown",
   "metadata": {},
   "source": [
    "## Sanitize\n",
    "Results may be in either GB or M format"
   ]
  },
  {
   "cell_type": "code",
   "execution_count": 3,
   "metadata": {},
   "outputs": [],
   "source": [
    "def to_gbit(x: str) -> float:\n",
    "    if(x.endswith('G')):\n",
    "        return float(x.partition('G')[0])\n",
    "    \n",
    "    if(x.endswith('M')):\n",
    "        return float(x.partition('M')[0]) / 1000\n",
    "\n",
    "    return 0\n",
    "\n",
    "\n",
    "c_server.BitsPerSecond = c_server.BitsPerSecond.map(to_gbit)\n",
    "rust_server.BitsPerSecond = rust_server.BitsPerSecond.map(to_gbit)"
   ]
  },
  {
   "cell_type": "markdown",
   "metadata": {},
   "source": [
    "## Results\n",
    "\n",
    "Throughput\n",
    "```\n",
    "Rust: 3.84 GB\n",
    "C: 3.9 GB\n",
    "```"
   ]
  },
  {
   "cell_type": "code",
   "execution_count": 8,
   "metadata": {},
   "outputs": [
    {
     "data": {
      "text/plain": [
       "[('Rust:', 3.84), ('C:', 3.9)]"
      ]
     },
     "execution_count": 8,
     "metadata": {},
     "output_type": "execute_result"
    }
   ],
   "source": [
    "[\n",
    "    (\"Rust:\", round(rust_server.BitsPerSecond.mean() / 8, 2)),\n",
    "    (\"C:\", round(c_server.BitsPerSecond.mean() / 8, 2))\n",
    "]\n"
   ]
  }
 ],
 "metadata": {
  "interpreter": {
   "hash": "7d6993cb2f9ce9a59d5d7380609d9cb5192a9dedd2735a011418ad9e827eb538"
  },
  "kernelspec": {
   "display_name": "Python 3.9.0 64-bit",
   "language": "python",
   "name": "python3"
  },
  "language_info": {
   "codemirror_mode": {
    "name": "ipython",
    "version": 3
   },
   "file_extension": ".py",
   "mimetype": "text/x-python",
   "name": "python",
   "nbconvert_exporter": "python",
   "pygments_lexer": "ipython3",
   "version": "3.9.0"
  },
  "orig_nbformat": 4
 },
 "nbformat": 4,
 "nbformat_minor": 2
}
